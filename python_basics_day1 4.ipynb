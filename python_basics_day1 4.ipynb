{
  "nbformat": 4,
  "nbformat_minor": 0,
  "metadata": {
    "colab": {
      "provenance": []
    },
    "kernelspec": {
      "name": "python3",
      "display_name": "Python 3"
    },
    "language_info": {
      "name": "python"
    }
  },
  "cells": [
    {
      "cell_type": "code",
      "execution_count": 2,
      "metadata": {
        "colab": {
          "base_uri": "https://localhost:8080/"
        },
        "id": "fooBKl8FmcO4",
        "outputId": "6a8e3b22-f53f-44f1-f533-c47178380265"
      },
      "outputs": [
        {
          "output_type": "stream",
          "name": "stdout",
          "text": [
            "welcome to Python world\n"
          ]
        }
      ],
      "source": [
        "print(\"welcome to Python world\")"
      ]
    },
    {
      "cell_type": "code",
      "source": [
        "salary = 25000\n",
        "house_rent =15000\n",
        "food_exp = 5000"
      ],
      "metadata": {
        "id": "_bGIQ2_E2iUc"
      },
      "execution_count": 9,
      "outputs": []
    },
    {
      "cell_type": "code",
      "source": [
        "total_expanses = house_rent + food_exp\n",
        "savings = salary-total_expanses\n",
        "savings\n",
        "print('My Savings per month is ,', salary)"
      ],
      "metadata": {
        "colab": {
          "base_uri": "https://localhost:8080/"
        },
        "id": "456iibnZml4b",
        "outputId": "f0f211a9-cd70-4fb8-aecb-a63df7127cea"
      },
      "execution_count": 17,
      "outputs": [
        {
          "output_type": "stream",
          "name": "stdout",
          "text": [
            "My Savings per month is , 25000\n"
          ]
        }
      ]
    },
    {
      "cell_type": "code",
      "source": [
        "course_fees = 250\n",
        "num_of_months = 6\n",
        "total_fees = course_fees*num_of_months\n",
        "total_fees"
      ],
      "metadata": {
        "colab": {
          "base_uri": "https://localhost:8080/"
        },
        "id": "UI01_bNM3jDu",
        "outputId": "86d59417-3364-4860-bf5d-2878a4c3ce33"
      },
      "execution_count": 18,
      "outputs": [
        {
          "output_type": "execute_result",
          "data": {
            "text/plain": [
              "1500"
            ]
          },
          "metadata": {},
          "execution_count": 18
        }
      ]
    },
    {
      "cell_type": "code",
      "source": [
        "num_1=2\n",
        "num_2=\"2.1\"\n",
        "num_1+float(num_2)\n",
        "print(type(num_1))\n",
        "print(type(float(num_2)))"
      ],
      "metadata": {
        "colab": {
          "base_uri": "https://localhost:8080/"
        },
        "id": "xM7wn2cS3wQX",
        "outputId": "8c510a40-60b5-48b3-b8d1-b8d5a8bd0b16"
      },
      "execution_count": 24,
      "outputs": [
        {
          "output_type": "stream",
          "name": "stdout",
          "text": [
            "<class 'int'>\n",
            "<class 'float'>\n"
          ]
        }
      ]
    },
    {
      "cell_type": "code",
      "source": [
        "x=True\n",
        "Y=False\n",
        "print('x and Y is :', x and Y)\n",
        "print('x or Y is :', x or Y)\n",
        "print('not x is :', not x)"
      ],
      "metadata": {
        "colab": {
          "base_uri": "https://localhost:8080/"
        },
        "id": "LkOQx1j_4div",
        "outputId": "2ee7364a-c347-4d73-a3f0-9b2479651bb1"
      },
      "execution_count": 34,
      "outputs": [
        {
          "output_type": "stream",
          "name": "stdout",
          "text": [
            "x and Y is : False\n",
            "x or Y is : True\n",
            "not x is : False\n"
          ]
        }
      ]
    },
    {
      "cell_type": "code",
      "source": [
        "x='python '\n",
        "y='world '\n",
        "a=x+y\n",
        "# a *=4\n",
        "print(a)\n",
        "len(a)"
      ],
      "metadata": {
        "colab": {
          "base_uri": "https://localhost:8080/"
        },
        "id": "QRfd-7QV4_z0",
        "outputId": "4728b50f-35a7-4071-ef95-40f34fb7cae8"
      },
      "execution_count": 52,
      "outputs": [
        {
          "output_type": "stream",
          "name": "stdout",
          "text": [
            "python world \n"
          ]
        },
        {
          "output_type": "execute_result",
          "data": {
            "text/plain": [
              "13"
            ]
          },
          "metadata": {},
          "execution_count": 52
        }
      ]
    },
    {
      "cell_type": "code",
      "source": [
        "y='python world '"
      ],
      "metadata": {
        "id": "1Wm-CHwA5xRh"
      },
      "execution_count": 54,
      "outputs": []
    },
    {
      "cell_type": "code",
      "source": [
        "x=y==a\n",
        "x"
      ],
      "metadata": {
        "colab": {
          "base_uri": "https://localhost:8080/"
        },
        "id": "pSaBjjNy5iHZ",
        "outputId": "56dd7492-561d-4328-b947-2f5b51855ecc"
      },
      "execution_count": 55,
      "outputs": [
        {
          "output_type": "execute_result",
          "data": {
            "text/plain": [
              "True"
            ]
          },
          "metadata": {},
          "execution_count": 55
        }
      ]
    },
    {
      "cell_type": "code",
      "source": [
        "a,b,c='sam',2,2.3\n",
        "print(type(b))"
      ],
      "metadata": {
        "colab": {
          "base_uri": "https://localhost:8080/"
        },
        "id": "FQLMX1gd52Uk",
        "outputId": "581c8e49-b55b-4681-c512-8234d5848cde"
      },
      "execution_count": 62,
      "outputs": [
        {
          "output_type": "stream",
          "name": "stdout",
          "text": [
            "<class 'int'>\n"
          ]
        }
      ]
    },
    {
      "cell_type": "code",
      "source": [
        "a=10\n",
        "b=50\n",
        "c=100"
      ],
      "metadata": {
        "id": "qccbz7-M6J4m"
      },
      "execution_count": 64,
      "outputs": []
    },
    {
      "cell_type": "code",
      "source": [
        "d=a+b+c\n",
        "d"
      ],
      "metadata": {
        "colab": {
          "base_uri": "https://localhost:8080/"
        },
        "id": "qihRSkPD6Ncb",
        "outputId": "851a7128-5200-4fc8-f3d0-73e9e8191552"
      },
      "execution_count": 69,
      "outputs": [
        {
          "output_type": "execute_result",
          "data": {
            "text/plain": [
              "180"
            ]
          },
          "metadata": {},
          "execution_count": 69
        }
      ]
    },
    {
      "cell_type": "code",
      "source": [
        "a+=a-10000\n",
        "a"
      ],
      "metadata": {
        "colab": {
          "base_uri": "https://localhost:8080/"
        },
        "id": "fnzFXNUA6Sdg",
        "outputId": "41b2fa78-df8e-4f1d-d7a5-0b9e555271d5"
      },
      "execution_count": 79,
      "outputs": [
        {
          "output_type": "execute_result",
          "data": {
            "text/plain": [
              "8000.0"
            ]
          },
          "metadata": {},
          "execution_count": 79
        }
      ]
    },
    {
      "cell_type": "code",
      "source": [
        "question = 'what did you have for dinner ?'\n",
        "answer = input('Enter Dish Name:')\n",
        "print('you had ' + answer + '! for dinner that is delicious!')"
      ],
      "metadata": {
        "colab": {
          "base_uri": "https://localhost:8080/"
        },
        "id": "W_3bdqKv63-_",
        "outputId": "3b52ab89-e624-4551-87b3-f949f5f827ea"
      },
      "execution_count": 84,
      "outputs": [
        {
          "output_type": "stream",
          "name": "stdout",
          "text": [
            "Enter Dish Name:Chicken Biriyani\n",
            "you had Chicken Biriyani! for dinner that is delicious!\n"
          ]
        }
      ]
    },
    {
      "cell_type": "code",
      "source": [
        "print(\"\"\"I'm learning Python\"\"\")"
      ],
      "metadata": {
        "colab": {
          "base_uri": "https://localhost:8080/"
        },
        "id": "JJO8mslW7nhp",
        "outputId": "d33a4bdc-b2b5-488f-b125-f646e3235433"
      },
      "execution_count": 89,
      "outputs": [
        {
          "output_type": "stream",
          "name": "stdout",
          "text": [
            "I'm learning Python\n"
          ]
        }
      ]
    },
    {
      "cell_type": "code",
      "source": [
        "print('I\\'m learning Python')"
      ],
      "metadata": {
        "colab": {
          "base_uri": "https://localhost:8080/"
        },
        "id": "-RTjgRME78Ly",
        "outputId": "e228efab-5368-4177-9ca3-55f204ee3d31"
      },
      "execution_count": 93,
      "outputs": [
        {
          "output_type": "stream",
          "name": "stdout",
          "text": [
            "I'm learning Python\n"
          ]
        }
      ]
    },
    {
      "cell_type": "code",
      "source": [
        "print('Sam: Hello John \\nHow are you ?')\n",
        "reply=input('reply: ')\n",
        "# print(reply)"
      ],
      "metadata": {
        "colab": {
          "base_uri": "https://localhost:8080/"
        },
        "id": "e09wiSGy8G_Y",
        "outputId": "e656d4cd-8079-4e99-a358-7f875381a64b"
      },
      "execution_count": 98,
      "outputs": [
        {
          "name": "stdout",
          "output_type": "stream",
          "text": [
            "Sam: Hello John \n",
            "How are you ?\n",
            "reply: I 'm doing good , thank you.\\n how are you\n"
          ]
        }
      ]
    },
    {
      "cell_type": "code",
      "source": [
        "my_var = 'barks'\n",
        "print('A dog ' + my_var + '!')\n",
        "print(f'A dog {my_var}!')\n",
        "print('A dog {0}!'.format(my_var))"
      ],
      "metadata": {
        "colab": {
          "base_uri": "https://localhost:8080/"
        },
        "id": "DUvMKQXC8-hq",
        "outputId": "6cb67198-d4cd-4d94-d114-28e508960080"
      },
      "execution_count": 110,
      "outputs": [
        {
          "output_type": "stream",
          "name": "stdout",
          "text": [
            "A dog barks!\n",
            "A dog barks!\n",
            "A dog barks!\n"
          ]
        }
      ]
    },
    {
      "cell_type": "code",
      "source": [
        "print(len('hello  world'))"
      ],
      "metadata": {
        "colab": {
          "base_uri": "https://localhost:8080/"
        },
        "id": "RcSNDQNE924K",
        "outputId": "55ade6f5-de28-45e9-9f35-162c5832a449"
      },
      "execution_count": 119,
      "outputs": [
        {
          "output_type": "stream",
          "name": "stdout",
          "text": [
            "12\n"
          ]
        }
      ]
    },
    {
      "cell_type": "markdown",
      "source": [
        "Lists"
      ],
      "metadata": {
        "id": "LQYDIdwr-NyS"
      }
    },
    {
      "cell_type": "code",
      "source": [
        "empty_list=[]\n",
        "empty_list"
      ],
      "metadata": {
        "colab": {
          "base_uri": "https://localhost:8080/"
        },
        "id": "J3k3YvhY-PjK",
        "outputId": "46156220-7669-4b4b-9422-f0c6feea27b9"
      },
      "execution_count": 120,
      "outputs": [
        {
          "output_type": "execute_result",
          "data": {
            "text/plain": [
              "[]"
            ]
          },
          "metadata": {},
          "execution_count": 120
        }
      ]
    },
    {
      "cell_type": "code",
      "source": [
        "cars_list = ['Toyoto', 'Honda', 'Benz', 'BMW']\n",
        "cars_list"
      ],
      "metadata": {
        "colab": {
          "base_uri": "https://localhost:8080/"
        },
        "id": "4TCSweK5-VRS",
        "outputId": "6d081647-6b84-4bb9-cd8d-a5c75fe87a70"
      },
      "execution_count": 206,
      "outputs": [
        {
          "output_type": "execute_result",
          "data": {
            "text/plain": [
              "['Toyoto', 'Honda', 'Benz', 'BMW']"
            ]
          },
          "metadata": {},
          "execution_count": 206
        }
      ]
    },
    {
      "cell_type": "code",
      "source": [
        "len(cars_list)"
      ],
      "metadata": {
        "colab": {
          "base_uri": "https://localhost:8080/"
        },
        "id": "xWA5XVhW-amH",
        "outputId": "78008e37-8f50-4cb7-8d68-be9f6e26355b"
      },
      "execution_count": 207,
      "outputs": [
        {
          "output_type": "execute_result",
          "data": {
            "text/plain": [
              "4"
            ]
          },
          "metadata": {},
          "execution_count": 207
        }
      ]
    },
    {
      "cell_type": "code",
      "source": [
        "cars_list[0]\n",
        "cars_list"
      ],
      "metadata": {
        "colab": {
          "base_uri": "https://localhost:8080/"
        },
        "id": "8Ya8Vz7_-v_K",
        "outputId": "af0d337d-d9b6-41f3-c8c5-d88e1819b26e"
      },
      "execution_count": 208,
      "outputs": [
        {
          "output_type": "execute_result",
          "data": {
            "text/plain": [
              "['Toyoto', 'Honda', 'Benz', 'BMW']"
            ]
          },
          "metadata": {},
          "execution_count": 208
        }
      ]
    },
    {
      "cell_type": "code",
      "source": [
        "cars_list[3]='Nissan'\n",
        "cars_list.append('Audi')\n",
        "cars_list"
      ],
      "metadata": {
        "colab": {
          "base_uri": "https://localhost:8080/"
        },
        "id": "KSfbJjZC--ny",
        "outputId": "96b1d33e-bac5-44d4-d444-f01a9075807e"
      },
      "execution_count": 209,
      "outputs": [
        {
          "output_type": "execute_result",
          "data": {
            "text/plain": [
              "['Toyoto', 'Honda', 'Benz', 'Nissan', 'Audi']"
            ]
          },
          "metadata": {},
          "execution_count": 209
        }
      ]
    },
    {
      "cell_type": "code",
      "source": [
        "cars_list.insert(2,'Ford')\n",
        "cars_list"
      ],
      "metadata": {
        "colab": {
          "base_uri": "https://localhost:8080/"
        },
        "id": "5bPw-Xio_Po-",
        "outputId": "7b2357e4-a109-4050-f05c-f988d7341626"
      },
      "execution_count": 210,
      "outputs": [
        {
          "output_type": "execute_result",
          "data": {
            "text/plain": [
              "['Toyoto', 'Honda', 'Ford', 'Benz', 'Nissan', 'Audi']"
            ]
          },
          "metadata": {},
          "execution_count": 210
        }
      ]
    },
    {
      "cell_type": "code",
      "source": [
        "cars_list.extend(['Bmw','Tata'])\n",
        "cars_list"
      ],
      "metadata": {
        "colab": {
          "base_uri": "https://localhost:8080/"
        },
        "id": "OvckGFwg_b2u",
        "outputId": "89679963-4240-4403-9afb-e9fee68a7659"
      },
      "execution_count": 211,
      "outputs": [
        {
          "output_type": "execute_result",
          "data": {
            "text/plain": [
              "['Toyoto', 'Honda', 'Ford', 'Benz', 'Nissan', 'Audi', 'Bmw', 'Tata']"
            ]
          },
          "metadata": {},
          "execution_count": 211
        }
      ]
    },
    {
      "cell_type": "code",
      "source": [
        "cars_list.remove('Tata')\n",
        "cars_list"
      ],
      "metadata": {
        "colab": {
          "base_uri": "https://localhost:8080/"
        },
        "id": "ReFnCYvl_uBt",
        "outputId": "ead43260-7ff4-45c6-f82b-7a606d6eef07"
      },
      "execution_count": 212,
      "outputs": [
        {
          "output_type": "execute_result",
          "data": {
            "text/plain": [
              "['Toyoto', 'Honda', 'Ford', 'Benz', 'Nissan', 'Audi', 'Bmw']"
            ]
          },
          "metadata": {},
          "execution_count": 212
        }
      ]
    },
    {
      "cell_type": "code",
      "source": [
        "# cars_list.insert(1,'Tata')\n",
        "cars_list.reverse()"
      ],
      "metadata": {
        "id": "tkBD3NEL_zDM"
      },
      "execution_count": 162,
      "outputs": []
    },
    {
      "cell_type": "code",
      "source": [
        "cars_list.sort"
      ],
      "metadata": {
        "colab": {
          "base_uri": "https://localhost:8080/"
        },
        "id": "WW2dJnySAJpM",
        "outputId": "61883144-648d-4c73-8a35-4c6ed20a81bc"
      },
      "execution_count": 163,
      "outputs": [
        {
          "output_type": "execute_result",
          "data": {
            "text/plain": [
              "['Toyoto',\n",
              " 'Tesla',\n",
              " 'Tata',\n",
              " 'Tata',\n",
              " 'Tata',\n",
              " 'Tata',\n",
              " 'Nissan',\n",
              " 'Nissan',\n",
              " 'Honda',\n",
              " 'Ford',\n",
              " 'Ford',\n",
              " 'Bmw',\n",
              " 'Audi',\n",
              " 'Audi',\n",
              " 'Audi']"
            ]
          },
          "metadata": {},
          "execution_count": 163
        }
      ]
    },
    {
      "cell_type": "code",
      "source": [
        "cars_list.sort()\n",
        "cars_list"
      ],
      "metadata": {
        "colab": {
          "base_uri": "https://localhost:8080/"
        },
        "id": "9eP-7y-rANk1",
        "outputId": "cd350ea1-f285-4016-effa-76de02462071"
      },
      "execution_count": 165,
      "outputs": [
        {
          "output_type": "execute_result",
          "data": {
            "text/plain": [
              "['Audi',\n",
              " 'Audi',\n",
              " 'Audi',\n",
              " 'Bmw',\n",
              " 'Ford',\n",
              " 'Ford',\n",
              " 'Honda',\n",
              " 'Nissan',\n",
              " 'Nissan',\n",
              " 'Tata',\n",
              " 'Tata',\n",
              " 'Tata',\n",
              " 'Tata',\n",
              " 'Tesla',\n",
              " 'Toyoto']"
            ]
          },
          "metadata": {},
          "execution_count": 165
        }
      ]
    },
    {
      "cell_type": "code",
      "source": [
        "cars_list.count('Tata')"
      ],
      "metadata": {
        "colab": {
          "base_uri": "https://localhost:8080/"
        },
        "id": "4fofRcAtASvF",
        "outputId": "a5e1a95d-c26f-46db-e40f-65c5bd6b68eb"
      },
      "execution_count": 166,
      "outputs": [
        {
          "output_type": "execute_result",
          "data": {
            "text/plain": [
              "4"
            ]
          },
          "metadata": {},
          "execution_count": 166
        }
      ]
    },
    {
      "cell_type": "code",
      "source": [
        "set(cars_list)"
      ],
      "metadata": {
        "colab": {
          "base_uri": "https://localhost:8080/"
        },
        "id": "4AJa5VY1AYnK",
        "outputId": "159ff71c-42ef-428a-b424-d816a0f7ddea"
      },
      "execution_count": 167,
      "outputs": [
        {
          "output_type": "execute_result",
          "data": {
            "text/plain": [
              "{'Audi', 'Bmw', 'Ford', 'Honda', 'Nissan', 'Tata', 'Tesla', 'Toyoto'}"
            ]
          },
          "metadata": {},
          "execution_count": 167
        }
      ]
    },
    {
      "cell_type": "code",
      "source": [
        "cars_list"
      ],
      "metadata": {
        "colab": {
          "base_uri": "https://localhost:8080/"
        },
        "id": "enxeez4xAnBe",
        "outputId": "9b7e0259-b43c-4a44-d70e-ff3cd066958e"
      },
      "execution_count": 177,
      "outputs": [
        {
          "output_type": "execute_result",
          "data": {
            "text/plain": [
              "[]"
            ]
          },
          "metadata": {},
          "execution_count": 177
        }
      ]
    },
    {
      "cell_type": "code",
      "source": [
        "cars_list_new= cars_list\n"
      ],
      "metadata": {
        "id": "YfrFnxWQAdME"
      },
      "execution_count": 216,
      "outputs": []
    },
    {
      "cell_type": "code",
      "source": [
        "cars_list.clear()"
      ],
      "metadata": {
        "id": "5spHRYOOA90w"
      },
      "execution_count": 220,
      "outputs": []
    },
    {
      "cell_type": "code",
      "source": [
        "cars_list"
      ],
      "metadata": {
        "colab": {
          "base_uri": "https://localhost:8080/",
          "height": 141
        },
        "id": "NVf_IQfnAr0u",
        "outputId": "048a5abc-4ff7-45a6-f807-1f0a5c96bc78"
      },
      "execution_count": 224,
      "outputs": [
        {
          "output_type": "error",
          "ename": "NameError",
          "evalue": "name 'cars_list' is not defined",
          "traceback": [
            "\u001b[0;31m---------------------------------------------------------------------------\u001b[0m",
            "\u001b[0;31mNameError\u001b[0m                                 Traceback (most recent call last)",
            "\u001b[0;32m<ipython-input-224-93e07889793c>\u001b[0m in \u001b[0;36m<cell line: 0>\u001b[0;34m()\u001b[0m\n\u001b[0;32m----> 1\u001b[0;31m \u001b[0mcars_list\u001b[0m\u001b[0;34m\u001b[0m\u001b[0;34m\u001b[0m\u001b[0m\n\u001b[0m",
            "\u001b[0;31mNameError\u001b[0m: name 'cars_list' is not defined"
          ]
        }
      ]
    },
    {
      "cell_type": "code",
      "source": [
        "cars_list_new"
      ],
      "metadata": {
        "colab": {
          "base_uri": "https://localhost:8080/",
          "height": 141
        },
        "id": "itxvFsV_Av0f",
        "outputId": "0f9573b0-3f92-4e3c-9ff7-9bf5cafb4db1"
      },
      "execution_count": 231,
      "outputs": [
        {
          "output_type": "error",
          "ename": "NameError",
          "evalue": "name 'cars_list_new' is not defined",
          "traceback": [
            "\u001b[0;31m---------------------------------------------------------------------------\u001b[0m",
            "\u001b[0;31mNameError\u001b[0m                                 Traceback (most recent call last)",
            "\u001b[0;32m<ipython-input-231-e72a07de2ebd>\u001b[0m in \u001b[0;36m<cell line: 0>\u001b[0;34m()\u001b[0m\n\u001b[0;32m----> 1\u001b[0;31m \u001b[0mcars_list_new\u001b[0m\u001b[0;34m\u001b[0m\u001b[0;34m\u001b[0m\u001b[0m\n\u001b[0m",
            "\u001b[0;31mNameError\u001b[0m: name 'cars_list_new' is not defined"
          ]
        }
      ]
    },
    {
      "cell_type": "code",
      "source": [
        "import copy\n",
        "new_cars_list = copy.deepcopy(cars_list_new)"
      ],
      "metadata": {
        "id": "lRftRjyhBVpv"
      },
      "execution_count": 218,
      "outputs": []
    },
    {
      "cell_type": "code",
      "source": [
        "new_cars_list"
      ],
      "metadata": {
        "colab": {
          "base_uri": "https://localhost:8080/"
        },
        "id": "9wNyIP9dBceD",
        "outputId": "95ff513c-2b8e-464d-eeb3-13479c2647fb"
      },
      "execution_count": 230,
      "outputs": [
        {
          "output_type": "execute_result",
          "data": {
            "text/plain": [
              "['Toyoto', 'Honda', 'Ford', 'Benz', 'Nissan', 'Audi', 'Bmw']"
            ]
          },
          "metadata": {},
          "execution_count": 230
        }
      ]
    },
    {
      "cell_type": "code",
      "source": [
        "del cars_list_new"
      ],
      "metadata": {
        "id": "_WcJSgRMBims"
      },
      "execution_count": 229,
      "outputs": []
    },
    {
      "cell_type": "code",
      "source": [],
      "metadata": {
        "id": "cw4hKcBvBJCe"
      },
      "execution_count": null,
      "outputs": []
    }
  ]
}